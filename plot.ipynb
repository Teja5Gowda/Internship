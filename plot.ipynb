{
 "cells": [
  {
   "cell_type": "code",
   "execution_count": 10,
   "metadata": {},
   "outputs": [],
   "source": [
    "import seaborn as sns\n",
    "import pandas as pd\n",
    "import matplotlib.pyplot as plt"
   ]
  },
  {
   "cell_type": "code",
   "execution_count": 3,
   "metadata": {},
   "outputs": [],
   "source": [
    "data = pd.read_csv(\"./Results/Sep22_06_07_55AM_CNN-2/lenetPrune.csv\")"
   ]
  },
  {
   "cell_type": "code",
   "execution_count": 4,
   "metadata": {},
   "outputs": [
    {
     "data": {
      "text/html": [
       "<div>\n",
       "<style scoped>\n",
       "    .dataframe tbody tr th:only-of-type {\n",
       "        vertical-align: middle;\n",
       "    }\n",
       "\n",
       "    .dataframe tbody tr th {\n",
       "        vertical-align: top;\n",
       "    }\n",
       "\n",
       "    .dataframe thead th {\n",
       "        text-align: right;\n",
       "    }\n",
       "</style>\n",
       "<table border=\"1\" class=\"dataframe\">\n",
       "  <thead>\n",
       "    <tr style=\"text-align: right;\">\n",
       "      <th></th>\n",
       "      <th>MI_x_tr</th>\n",
       "      <th>MI_y_tr</th>\n",
       "      <th>MI_x_te</th>\n",
       "      <th>MI_y_te</th>\n",
       "      <th>Acc_tr</th>\n",
       "      <th>Acc_te</th>\n",
       "      <th>loss</th>\n",
       "      <th>epochs</th>\n",
       "    </tr>\n",
       "  </thead>\n",
       "  <tbody>\n",
       "    <tr>\n",
       "      <th>0</th>\n",
       "      <td>0.155</td>\n",
       "      <td>0.088</td>\n",
       "      <td>0.104</td>\n",
       "      <td>0.063</td>\n",
       "      <td>10.85</td>\n",
       "      <td>11.35</td>\n",
       "      <td>2.661</td>\n",
       "      <td>1</td>\n",
       "    </tr>\n",
       "    <tr>\n",
       "      <th>1</th>\n",
       "      <td>0.104</td>\n",
       "      <td>0.062</td>\n",
       "      <td>0.106</td>\n",
       "      <td>0.064</td>\n",
       "      <td>10.59</td>\n",
       "      <td>5.87</td>\n",
       "      <td>2.301</td>\n",
       "      <td>2</td>\n",
       "    </tr>\n",
       "    <tr>\n",
       "      <th>2</th>\n",
       "      <td>0.104</td>\n",
       "      <td>0.062</td>\n",
       "      <td>0.105</td>\n",
       "      <td>0.064</td>\n",
       "      <td>11.04</td>\n",
       "      <td>11.35</td>\n",
       "      <td>2.301</td>\n",
       "      <td>3</td>\n",
       "    </tr>\n",
       "    <tr>\n",
       "      <th>3</th>\n",
       "      <td>0.104</td>\n",
       "      <td>0.062</td>\n",
       "      <td>0.107</td>\n",
       "      <td>0.065</td>\n",
       "      <td>11.49</td>\n",
       "      <td>9.80</td>\n",
       "      <td>2.300</td>\n",
       "      <td>4</td>\n",
       "    </tr>\n",
       "    <tr>\n",
       "      <th>4</th>\n",
       "      <td>0.110</td>\n",
       "      <td>0.065</td>\n",
       "      <td>0.116</td>\n",
       "      <td>0.070</td>\n",
       "      <td>11.47</td>\n",
       "      <td>11.35</td>\n",
       "      <td>2.300</td>\n",
       "      <td>5</td>\n",
       "    </tr>\n",
       "    <tr>\n",
       "      <th>...</th>\n",
       "      <td>...</td>\n",
       "      <td>...</td>\n",
       "      <td>...</td>\n",
       "      <td>...</td>\n",
       "      <td>...</td>\n",
       "      <td>...</td>\n",
       "      <td>...</td>\n",
       "      <td>...</td>\n",
       "    </tr>\n",
       "    <tr>\n",
       "      <th>115</th>\n",
       "      <td>4.676</td>\n",
       "      <td>3.062</td>\n",
       "      <td>4.660</td>\n",
       "      <td>3.066</td>\n",
       "      <td>97.77</td>\n",
       "      <td>97.12</td>\n",
       "      <td>0.075</td>\n",
       "      <td>116</td>\n",
       "    </tr>\n",
       "    <tr>\n",
       "      <th>116</th>\n",
       "      <td>4.676</td>\n",
       "      <td>3.062</td>\n",
       "      <td>4.664</td>\n",
       "      <td>3.064</td>\n",
       "      <td>97.78</td>\n",
       "      <td>97.09</td>\n",
       "      <td>0.075</td>\n",
       "      <td>117</td>\n",
       "    </tr>\n",
       "    <tr>\n",
       "      <th>117</th>\n",
       "      <td>4.676</td>\n",
       "      <td>3.062</td>\n",
       "      <td>4.664</td>\n",
       "      <td>3.066</td>\n",
       "      <td>97.76</td>\n",
       "      <td>97.09</td>\n",
       "      <td>0.075</td>\n",
       "      <td>118</td>\n",
       "    </tr>\n",
       "    <tr>\n",
       "      <th>118</th>\n",
       "      <td>4.676</td>\n",
       "      <td>3.062</td>\n",
       "      <td>4.668</td>\n",
       "      <td>3.068</td>\n",
       "      <td>97.78</td>\n",
       "      <td>97.07</td>\n",
       "      <td>0.075</td>\n",
       "      <td>119</td>\n",
       "    </tr>\n",
       "    <tr>\n",
       "      <th>119</th>\n",
       "      <td>4.680</td>\n",
       "      <td>3.064</td>\n",
       "      <td>4.664</td>\n",
       "      <td>3.064</td>\n",
       "      <td>97.77</td>\n",
       "      <td>97.11</td>\n",
       "      <td>0.075</td>\n",
       "      <td>120</td>\n",
       "    </tr>\n",
       "  </tbody>\n",
       "</table>\n",
       "<p>120 rows × 8 columns</p>\n",
       "</div>"
      ],
      "text/plain": [
       "     MI_x_tr  MI_y_tr  MI_x_te  MI_y_te  Acc_tr  Acc_te   loss  epochs\n",
       "0      0.155    0.088    0.104    0.063   10.85   11.35  2.661       1\n",
       "1      0.104    0.062    0.106    0.064   10.59    5.87  2.301       2\n",
       "2      0.104    0.062    0.105    0.064   11.04   11.35  2.301       3\n",
       "3      0.104    0.062    0.107    0.065   11.49    9.80  2.300       4\n",
       "4      0.110    0.065    0.116    0.070   11.47   11.35  2.300       5\n",
       "..       ...      ...      ...      ...     ...     ...    ...     ...\n",
       "115    4.676    3.062    4.660    3.066   97.77   97.12  0.075     116\n",
       "116    4.676    3.062    4.664    3.064   97.78   97.09  0.075     117\n",
       "117    4.676    3.062    4.664    3.066   97.76   97.09  0.075     118\n",
       "118    4.676    3.062    4.668    3.068   97.78   97.07  0.075     119\n",
       "119    4.680    3.064    4.664    3.064   97.77   97.11  0.075     120\n",
       "\n",
       "[120 rows x 8 columns]"
      ]
     },
     "execution_count": 4,
     "metadata": {},
     "output_type": "execute_result"
    }
   ],
   "source": [
    "data"
   ]
  },
  {
   "cell_type": "code",
   "execution_count": 32,
   "metadata": {},
   "outputs": [
    {
     "name": "stderr",
     "output_type": "stream",
     "text": [
      "No artists with labels found to put in legend.  Note that artists whose label start with an underscore are ignored when legend() is called with no argument.\n"
     ]
    },
    {
     "name": "stdout",
     "output_type": "stream",
     "text": [
      "[<AxesSubplot:> <AxesSubplot:>]\n"
     ]
    },
    {
     "data": {
      "image/png": "[encoded data removed]",
      "text/plain": [
       "<Figure size 720x720 with 2 Axes>"
      ]
     },
     "metadata": {
      "needs_background": "light"
     },
     "output_type": "display_data"
    }
   ],
   "source": [
    "fig, axes = plt.subplots(2,1, figsize=(10,10))\n",
    "print(axes)\n",
    "sns.lineplot(ax = axes[0], x=\"epochs\",y=\"MI_x_tr\", data = data, color = \"b\")\n",
    "sns.lineplot(ax = axes[0], x=\"epochs\",y=\"MI_x_te\", data = data, color = \"r\")\n",
    "sns.lineplot(ax=axes[1], x=\"epochs\",y=\"MI_y_tr\", data = data, color=\"g\")\n",
    "sns.lineplot(ax=axes[1], x=\"epochs\",y=\"MI_y_te\", data = data, color=\"y\")\n",
    "plt.legend()\n",
    "plt.show()"
   ]
  },
  {
   "cell_type": "code",
   "execution_count": 33,
   "metadata": {},
   "outputs": [
    {
     "name": "stderr",
     "output_type": "stream",
     "text": [
      "No artists with labels found to put in legend.  Note that artists whose label start with an underscore are ignored when legend() is called with no argument.\n"
     ]
    },
    {
     "name": "stdout",
     "output_type": "stream",
     "text": [
      "[<AxesSubplot:> <AxesSubplot:>]\n"
     ]
    },
    {
     "data": {
      "image/png": "[encoded data removed]",
      "text/plain": [
       "<Figure size 720x720 with 2 Axes>"
      ]
     },
     "metadata": {
      "needs_background": "light"
     },
     "output_type": "display_data"
    }
   ],
   "source": [
    "fig1, axes1 = plt.subplots(2,1, figsize=(10,10))\n",
    "print(axes1)\n",
    "sns.lineplot(ax = axes1[0], x=\"epochs\",y=\"Acc_tr\", data = data, color = \"b\")\n",
    "sns.lineplot(ax = axes1[0], x=\"epochs\",y=\"Acc_te\", data = data, color = \"r\")\n",
    "sns.lineplot(ax=axes1[1], x=\"epochs\",y=\"loss\", data = data, color=\"g\")\n",
    "plt.legend()\n",
    "plt.show()"
   ]
  },
  {
   "cell_type": "code",
   "execution_count": null,
   "metadata": {},
   "outputs": [],
   "source": []
  }
 ],
 "metadata": {
  "kernelspec": {
   "display_name": "Python 3.10.6 64-bit",
   "language": "python",
   "name": "python3"
  },
  "language_info": {
   "codemirror_mode": {
    "name": "ipython",
    "version": 3
   },
   "file_extension": ".py",
   "mimetype": "text/x-python",
   "name": "python",
   "nbconvert_exporter": "python",
   "pygments_lexer": "ipython3",
   "version": "3.10.6"
  },
  "orig_nbformat": 4,
  "vscode": {
   "interpreter": {
    "hash": "214c9a2d195d9843a7f2725e73eb3de01b9651b32d863f0ed22fc8ff55710884"
   }
  }
 },
 "nbformat": 4,
 "nbformat_minor": 2
}
